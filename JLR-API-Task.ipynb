{
 "cells": [
  {
   "cell_type": "code",
   "execution_count": 18,
   "metadata": {},
   "outputs": [],
   "source": [
    "import requests\n",
    "import xml.etree.ElementTree as ET\n",
    "import json\n"
   ]
  },
  {
   "cell_type": "code",
   "execution_count": 19,
   "metadata": {},
   "outputs": [],
   "source": [
    "# Define API URL for the 2023 F1 season based on constructors' standings\n",
    "api_url = \"http://ergast.com/api/f1/2023/constructorStandings.json\""
   ]
  },
  {
   "cell_type": "code",
   "execution_count": 20,
   "metadata": {},
   "outputs": [],
   "source": [
    "# Fetch data from API\n",
    "response = requests.get(api_url)\n",
    "data = response.json()"
   ]
  },
  {
   "cell_type": "code",
   "execution_count": 21,
   "metadata": {},
   "outputs": [],
   "source": [
    "# Initialize a dictionary to store the best circuit for each constructor\n",
    "best_circuits = {}\n"
   ]
  },
  {
   "cell_type": "code",
   "execution_count": 22,
   "metadata": {},
   "outputs": [],
   "source": [
    "season = data[\"MRData\"][\"StandingsTable\"][\"StandingsLists\"][0][\"season\"]\n"
   ]
  },
  {
   "cell_type": "code",
   "execution_count": 23,
   "metadata": {},
   "outputs": [
    {
     "data": {
      "text/plain": [
       "'2023'"
      ]
     },
     "execution_count": 23,
     "metadata": {},
     "output_type": "execute_result"
    }
   ],
   "source": [
    "season"
   ]
  },
  {
   "cell_type": "code",
   "execution_count": 24,
   "metadata": {},
   "outputs": [],
   "source": [
    "\n",
    "# Iterate through the constructor standings data\n",
    "for constructor in data[\"MRData\"][\"StandingsTable\"][\"StandingsLists\"][0][\"ConstructorStandings\"]:\n",
    "    constructor_id = constructor[\"Constructor\"][\"constructorId\"]\n",
    "    constructor_name = constructor[\"Constructor\"][\"name\"]\n",
    "    # season = constructor[\"season\"]\n",
    "    \n",
    "    # Define API URL to fetch the race results for this constructor in all seasons\n",
    "    api_url2 = f\"http://ergast.com/api/f1/constructors/{constructor_id}/results.json\"\n",
    "    \n",
    "    # Fetch data for all seasons\n",
    "    response2 = requests.get(api_url2)\n",
    "    data2 = response2.json()\n",
    "\n",
    "    # Initialize variables to track the best circuit and points\n",
    "    best_circuit = None\n",
    "    best_points = 0\n",
    "\n",
    "    # Iterate through race results for this constructor\n",
    "    for race in data2[\"MRData\"][\"RaceTable\"][\"Races\"]:\n",
    "      race_name = race[\"raceName\"]\n",
    "      points = int(float(race[\"Results\"][0][\"points\"]))\n",
    "        \n",
    "    # Check if this race had more points than the current best\n",
    "    if points > best_points:\n",
    "      best_points = points\n",
    "      best_circuit = race_name\n",
    "    \n",
    "        \n",
    "    # Store the best circuit for this constructor\n",
    "    best_circuits[constructor_name] = {\n",
    "        \"constructor_name\": constructor_name,\n",
    "        \"constructor_id\": constructor_id,\n",
    "        \"best_circuit\": best_circuit,\n",
    "        \"season\": season,\n",
    "    }\n",
    "    "
   ]
  },
  {
   "cell_type": "code",
   "execution_count": 25,
   "metadata": {},
   "outputs": [],
   "source": [
    "\n",
    "# Results in XML format\n",
    "root = ET.Element(\"ConstructorBestCircuits\")\n",
    "for constructor_name, info in best_circuits.items():\n",
    "    constructor_elem = ET.SubElement(root, \"Constructor\")\n",
    "    ET.SubElement(constructor_elem, \"Name\").text = constructor_name\n",
    "    ET.SubElement(constructor_elem, \"ConstructorID\").text = info[\"constructor_id\"]\n",
    "    ET.SubElement(constructor_elem, \"BestCircuit\").text = info[\"best_circuit\"]\n",
    "    ET.SubElement(constructor_elem, \"Season\").text = info[\"season\"]\n"
   ]
  },
  {
   "cell_type": "code",
   "execution_count": 26,
   "metadata": {},
   "outputs": [],
   "source": [
    "\n",
    "xml_result = ET.tostring(root, encoding=\"unicode\")\n"
   ]
  },
  {
   "cell_type": "code",
   "execution_count": 27,
   "metadata": {},
   "outputs": [
    {
     "name": "stdout",
     "output_type": "stream",
     "text": [
      "XML Output:\n",
      "<ConstructorBestCircuits><Constructor><Name>Red Bull</Name><ConstructorID>red_bull</ConstructorID><BestCircuit /><Season>2023</Season></Constructor><Constructor><Name>Mercedes</Name><ConstructorID>mercedes</ConstructorID><BestCircuit>Belgian Grand Prix</BestCircuit><Season>2023</Season></Constructor><Constructor><Name>Ferrari</Name><ConstructorID>ferrari</ConstructorID><BestCircuit>British Grand Prix</BestCircuit><Season>2023</Season></Constructor><Constructor><Name>Aston Martin</Name><ConstructorID>aston_martin</ConstructorID><BestCircuit>British Grand Prix</BestCircuit><Season>2023</Season></Constructor><Constructor><Name>McLaren</Name><ConstructorID>mclaren</ConstructorID><BestCircuit>Argentine Grand Prix</BestCircuit><Season>2023</Season></Constructor><Constructor><Name>Alpine F1 Team</Name><ConstructorID>alpine</ConstructorID><BestCircuit>Russian Grand Prix</BestCircuit><Season>2023</Season></Constructor><Constructor><Name>Williams</Name><ConstructorID>williams</ConstructorID><BestCircuit /><Season>2023</Season></Constructor><Constructor><Name>Haas F1 Team</Name><ConstructorID>haas</ConstructorID><BestCircuit /><Season>2023</Season></Constructor><Constructor><Name>Alfa Romeo</Name><ConstructorID>alfa</ConstructorID><BestCircuit>French Grand Prix</BestCircuit><Season>2023</Season></Constructor><Constructor><Name>AlphaTauri</Name><ConstructorID>alphatauri</ConstructorID><BestCircuit>Bahrain Grand Prix</BestCircuit><Season>2023</Season></Constructor></ConstructorBestCircuits>\n"
     ]
    }
   ],
   "source": [
    "# Print the results\n",
    "print(\"XML Output:\")\n",
    "print(xml_result)\n"
   ]
  },
  {
   "cell_type": "code",
   "execution_count": 28,
   "metadata": {},
   "outputs": [],
   "source": [
    "\n",
    "# Results in JSON format\n",
    "json_result = json.dumps(best_circuits, indent=4)\n"
   ]
  },
  {
   "cell_type": "code",
   "execution_count": 29,
   "metadata": {},
   "outputs": [
    {
     "name": "stdout",
     "output_type": "stream",
     "text": [
      "\n",
      "JSON Output:\n",
      "{\n",
      "    \"Red Bull\": {\n",
      "        \"constructor_name\": \"Red Bull\",\n",
      "        \"constructor_id\": \"red_bull\",\n",
      "        \"best_circuit\": null,\n",
      "        \"season\": \"2023\"\n",
      "    },\n",
      "    \"Mercedes\": {\n",
      "        \"constructor_name\": \"Mercedes\",\n",
      "        \"constructor_id\": \"mercedes\",\n",
      "        \"best_circuit\": \"Belgian Grand Prix\",\n",
      "        \"season\": \"2023\"\n",
      "    },\n",
      "    \"Ferrari\": {\n",
      "        \"constructor_name\": \"Ferrari\",\n",
      "        \"constructor_id\": \"ferrari\",\n",
      "        \"best_circuit\": \"British Grand Prix\",\n",
      "        \"season\": \"2023\"\n",
      "    },\n",
      "    \"Aston Martin\": {\n",
      "        \"constructor_name\": \"Aston Martin\",\n",
      "        \"constructor_id\": \"aston_martin\",\n",
      "        \"best_circuit\": \"British Grand Prix\",\n",
      "        \"season\": \"2023\"\n",
      "    },\n",
      "    \"McLaren\": {\n",
      "        \"constructor_name\": \"McLaren\",\n",
      "        \"constructor_id\": \"mclaren\",\n",
      "        \"best_circuit\": \"Argentine Grand Prix\",\n",
      "        \"season\": \"2023\"\n",
      "    },\n",
      "    \"Alpine F1 Team\": {\n",
      "        \"constructor_name\": \"Alpine F1 Team\",\n",
      "        \"constructor_id\": \"alpine\",\n",
      "        \"best_circuit\": \"Russian Grand Prix\",\n",
      "        \"season\": \"2023\"\n",
      "    },\n",
      "    \"Williams\": {\n",
      "        \"constructor_name\": \"Williams\",\n",
      "        \"constructor_id\": \"williams\",\n",
      "        \"best_circuit\": null,\n",
      "        \"season\": \"2023\"\n",
      "    },\n",
      "    \"Haas F1 Team\": {\n",
      "        \"constructor_name\": \"Haas F1 Team\",\n",
      "        \"constructor_id\": \"haas\",\n",
      "        \"best_circuit\": null,\n",
      "        \"season\": \"2023\"\n",
      "    },\n",
      "    \"Alfa Romeo\": {\n",
      "        \"constructor_name\": \"Alfa Romeo\",\n",
      "        \"constructor_id\": \"alfa\",\n",
      "        \"best_circuit\": \"French Grand Prix\",\n",
      "        \"season\": \"2023\"\n",
      "    },\n",
      "    \"AlphaTauri\": {\n",
      "        \"constructor_name\": \"AlphaTauri\",\n",
      "        \"constructor_id\": \"alphatauri\",\n",
      "        \"best_circuit\": \"Bahrain Grand Prix\",\n",
      "        \"season\": \"2023\"\n",
      "    }\n",
      "}\n"
     ]
    }
   ],
   "source": [
    "print(\"\\nJSON Output:\")\n",
    "print(json_result)\n"
   ]
  },
  {
   "cell_type": "code",
   "execution_count": 30,
   "metadata": {},
   "outputs": [],
   "source": [
    "\n",
    "# Save the results to files if needed\n",
    "# with open(\"constructor_best_circuits.xml\", \"w\") as xml_file:\n",
    "# xml_file.write(xml_result)\n",
    "\n",
    "# with open(\"constructor_best_circuits.json\", \"w\") as json_file:\n",
    "# json_file.write(json_result)\n"
   ]
  }
 ],
 "metadata": {
  "kernelspec": {
   "display_name": "Python 3",
   "language": "python",
   "name": "python3"
  },
  "language_info": {
   "codemirror_mode": {
    "name": "ipython",
    "version": 3
   },
   "file_extension": ".py",
   "mimetype": "text/x-python",
   "name": "python",
   "nbconvert_exporter": "python",
   "pygments_lexer": "ipython3",
   "version": "3.7.3"
  }
 },
 "nbformat": 4,
 "nbformat_minor": 2
}
